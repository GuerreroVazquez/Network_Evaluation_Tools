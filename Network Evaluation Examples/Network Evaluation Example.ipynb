{
 "cells": [
  {
   "cell_type": "code",
   "execution_count": 14,
   "metadata": {
    "collapsed": false,
    "jupyter": {
     "outputs_hidden": false
    }
   },
   "outputs": [],
   "source": [
    "from network_evaluation_tools import data_import_tools as dit\n",
    "from network_evaluation_tools import network_evaluation_functions as nef\n",
    "from network_evaluation_tools import network_propagation as prop\n",
    "import pandas as pd\n",
    "import numpy as np"
   ]
  },
  {
   "cell_type": "code",
   "execution_count": 2,
   "metadata": {
    "collapsed": false,
    "jupyter": {
     "outputs_hidden": false
    }
   },
   "outputs": [
    {
     "name": "stdout",
     "output_type": "stream",
     "text": [
      "Network File Loaded: /cellar/users/jkhuang/Data/Projects/Network_Analysis/Data/Network_SIFs_Symbol/InBioMap75_Symbol.sif\n"
     ]
    }
   ],
   "source": [
    "# Load network (We choose a smaller network here for the example's sake)\n",
    "network = dit.load_network_file('~/Data/InBioMap_subnetwork.txt', verbose=True)"
   ]
  },
  {
   "cell_type": "code",
   "execution_count": 3,
   "metadata": {
    "collapsed": true,
    "jupyter": {
     "outputs_hidden": true
    }
   },
   "outputs": [],
   "source": [
    "# Load gene sets for analysis\n",
    "genesets = dit.load_node_sets('~/Data/DisGeNET_genesets.txt')"
   ]
  },
  {
   "cell_type": "code",
   "execution_count": 4,
   "metadata": {
    "collapsed": true,
    "jupyter": {
     "outputs_hidden": true
    }
   },
   "outputs": [],
   "source": [
    "# Calculate geneset sub-sample rate\n",
    "genesets_p = nef.calculate_p(network, genesets)"
   ]
  },
  {
   "cell_type": "code",
   "execution_count": 5,
   "metadata": {
    "collapsed": false,
    "jupyter": {
     "outputs_hidden": false
    }
   },
   "outputs": [
    {
     "name": "stdout",
     "output_type": "stream",
     "text": [
      "0.596\n"
     ]
    }
   ],
   "source": [
    "# Determine optimal alpha for network (can also be done automatically by next step)\n",
    "alpha = prop.calculate_alpha(network)\n",
    "print alpha"
   ]
  },
  {
   "cell_type": "code",
   "execution_count": 6,
   "metadata": {
    "collapsed": false,
    "jupyter": {
     "outputs_hidden": false
    }
   },
   "outputs": [
    {
     "name": "stdout",
     "output_type": "stream",
     "text": [
      "Alpha: 0.596\n",
      "Network Propagation Complete: 76.2080309391 seconds\n",
      "Propagated network kernel constructed\n"
     ]
    }
   ],
   "source": [
    "# Calculate network kernel for propagation\n",
    "kernel = nef.construct_prop_kernel(network, alpha=alpha, verbose=True)"
   ]
  },
  {
   "cell_type": "code",
   "execution_count": 7,
   "metadata": {
    "collapsed": false,
    "jupyter": {
     "outputs_hidden": false
    }
   },
   "outputs": [
    {
     "name": "stdout",
     "output_type": "stream",
     "text": [
      "AUPRC Analysis for given node set (69 nodes in network) complete: 0.76 seconds.\n",
      "AUPRC Analysis for given node set (90 nodes in network) complete: 0.81 seconds.\n",
      "AUPRC Analysis for given node set (164 nodes in network) complete: 1.29 seconds.\n",
      "AUPRC Analysis for given node set (139 nodes in network) complete: 1.46 seconds.\n",
      "AUPRC Analysis for given node set (165 nodes in network) complete: 0.98 seconds.\n",
      "AUPRC Analysis for given node set (129 nodes in network) complete: 1.07 seconds.\n",
      "AUPRC Analysis for given node set (238 nodes in network) complete: 1.83 seconds.\n",
      "AUPRC Analysis for given node set (97 nodes in network) complete: 0.89 seconds.\n",
      "AUPRC Analysis for given node set (213 nodes in network) complete: 1.45 seconds.\n",
      "AUPRC Analysis for given node set (162 nodes in network) complete: 0.95 seconds.\n",
      "AUPRC Analysis for given node set (221 nodes in network) complete: 1.14 seconds.\n",
      "AUPRC Analysis for given node set (102 nodes in network) complete: 1.27 seconds.\n",
      "AUPRC Analysis for given node set (113 nodes in network) complete: 0.9 seconds.\n",
      "AUPRC Analysis for given node set (225 nodes in network) complete: 1.82 seconds.\n",
      "AUPRC Analysis for given node set (129 nodes in network) complete: 0.99 seconds.\n",
      "AUPRC Analysis for given node set (145 nodes in network) complete: 1.47 seconds.\n",
      "AUPRC Analysis for given node set (114 nodes in network) complete: 0.86 seconds.\n",
      "AUPRC Analysis for given node set (144 nodes in network) complete: 0.99 seconds.\n",
      "AUPRC Analysis for given node set (165 nodes in network) complete: 1.57 seconds.\n",
      "AUPRC Analysis for given node set (129 nodes in network) complete: 0.97 seconds.\n",
      "AUPRC Analysis for given node set (208 nodes in network) complete: 1.24 seconds.\n",
      "AUPRC Analysis for given node set (136 nodes in network) complete: 1.46 seconds.\n",
      "AUPRC Analysis for given node set (60 nodes in network) complete: 1.05 seconds.\n",
      "AUPRC Analysis for given node set (98 nodes in network) complete: 0.81 seconds.\n",
      "AUPRC Analysis for given node set (196 nodes in network) complete: 1.07 seconds.\n",
      "AUPRC Analysis for given node set (96 nodes in network) complete: 1.21 seconds.\n",
      "AUPRC Analysis for given node set (85 nodes in network) complete: 0.99 seconds.\n",
      "AUPRC Analysis for given node set (130 nodes in network) complete: 0.87 seconds.\n",
      "AUPRC Analysis for given node set (207 nodes in network) complete: 1.09 seconds.\n",
      "AUPRC Analysis for given node set (74 nodes in network) complete: 0.71 seconds.\n",
      "AUPRC Analysis for given node set (206 nodes in network) complete: 1.07 seconds.\n",
      "AUPRC Analysis for given node set (192 nodes in network) complete: 1.01 seconds.\n"
     ]
    }
   ],
   "source": [
    "# Calculate the AUPRC values for each gene set\n",
    "AUPRC_values = nef.small_network_AUPRC_wrapper(kernel, genesets, genesets_p, n=30, cores=4, verbose=True)"
   ]
  },
  {
   "cell_type": "markdown",
   "metadata": {},
   "source": [
    "**Note about the above cell:** There are a several options for this particular step depending on the computational resources available and network size. If the network is sufficiently small (<250k edges), it is recommended to use the 'small_network_AUPRC_wrapper' function as it can be much faster, especially when run in parallel (at least 8G per core is recommended). If you would like to parallelize the AUPRC calculation with a larger network (between 250K and 2.5M edges), at least 16G per core is recommended, 32G per core if the network contains more than 2.5M edges. For larger networks, it is recommended to use the 'large_network_AUPRC_wrapper', which may be a slightly slower function, but more equipped to handle the larger memory footprint required. To change the parllelization status of the function, change the 'cores' option to the number of threads you would like to utilize."
   ]
  },
  {
   "cell_type": "code",
   "execution_count": 13,
   "metadata": {
    "collapsed": false,
    "jupyter": {
     "outputs_hidden": false
    }
   },
   "outputs": [
    {
     "name": "stdout",
     "output_type": "stream",
     "text": [
      "Network shuffled: 7.99008989334 seconds. Edge similarity: 0.168051958349\n",
      "shuffNet 1 AUPRCs calculated\n",
      "Network shuffled: 7.47656393051 seconds. Edge similarity: 0.166261430308\n",
      "shuffNet 2 AUPRCs calculated\n",
      "Network shuffled: 7.29569387436 seconds. Edge similarity: 0.168415349649\n",
      "shuffNet 3 AUPRCs calculated\n",
      "Network shuffled: 7.99349284172 seconds. Edge similarity: 0.167344997093\n",
      "shuffNet 4 AUPRCs calculated\n",
      "Network shuffled: 7.6033039093 seconds. Edge similarity: 0.167146783657\n",
      "shuffNet 5 AUPRCs calculated\n",
      "Network shuffled: 7.44416499138 seconds. Edge similarity: 0.167344997093\n",
      "shuffNet 6 AUPRCs calculated\n",
      "Network shuffled: 7.43572402 seconds. Edge similarity: 0.166803213701\n",
      "shuffNet 7 AUPRCs calculated\n",
      "Network shuffled: 7.36451888084 seconds. Edge similarity: 0.16702124848\n",
      "shuffNet 8 AUPRCs calculated\n",
      "Network shuffled: 7.58913898468 seconds. Edge similarity: 0.1675299963\n",
      "shuffNet 9 AUPRCs calculated\n",
      "Network shuffled: 7.63543987274 seconds. Edge similarity: 0.166928748877\n",
      "shuffNet 10 AUPRCs calculated\n"
     ]
    }
   ],
   "source": [
    "# Construct null networks and calculate the AUPRC of the gene sets of the null networks\n",
    "# We can use the AUPRC wrapper function for this\n",
    "null_AUPRCs = []\n",
    "for i in range(10):\n",
    "    shuffNet = nef.shuffle_network(network, max_tries_n=10, verbose=True)\n",
    "    shuffNet_kernel = nef.construct_prop_kernel(shuffNet, alpha=alpha, verbose=False)\n",
    "    shuffNet_AUPRCs = nef.small_network_AUPRC_wrapper(shuffNet_kernel, genesets, genesets_p, n=30, cores=4, verbose=False)\n",
    "    null_AUPRCs.append(shuffNet_AUPRCs)\n",
    "    print 'shuffNet', repr(i+1), 'AUPRCs calculated'"
   ]
  },
  {
   "cell_type": "markdown",
   "metadata": {},
   "source": [
    "**Note about the above cell:** We use a small number to calculate the null AUPRC values, but a larger number of shuffled networks may give a better representation of the true null AUPRC value.  smaller number of networks here for this example, but larger numbers can be used, especially if the resulting distribution of null AUPRCs has a high variance relative to the actual AUPRC values, but we have found that the variance remains relatively small even with a small number of shuffled networks."
   ]
  },
  {
   "cell_type": "code",
   "execution_count": 15,
   "metadata": {
    "collapsed": false,
    "jupyter": {
     "outputs_hidden": false
    }
   },
   "outputs": [],
   "source": [
    "# Construct table of null AUPRCs\n",
    "null_AUPRCs_table = pd.concat(null_AUPRCs, axis=1)\n",
    "null_AUPRCs_table.columns = ['shuffNet'+repr(i+1) for i in range(len(null_AUPRCs))]"
   ]
  },
  {
   "cell_type": "code",
   "execution_count": 16,
   "metadata": {
    "collapsed": false,
    "jupyter": {
     "outputs_hidden": false
    }
   },
   "outputs": [
    {
     "name": "stdout",
     "output_type": "stream",
     "text": [
      "AUPRC values z-normalized\n"
     ]
    }
   ],
   "source": [
    "# Calculate performance metric of gene sets\n",
    "network_performance = nef.calculate_network_performance_score(AUPRC_values, null_AUPRCs_table, verbose=True)\n",
    "network_performance.name = 'Test Network'"
   ]
  },
  {
   "cell_type": "code",
   "execution_count": 17,
   "metadata": {
    "collapsed": false,
    "jupyter": {
     "outputs_hidden": false
    }
   },
   "outputs": [
    {
     "name": "stdout",
     "output_type": "stream",
     "text": [
      "AUPRC relative performance gain calculated\n"
     ]
    }
   ],
   "source": [
    "# Calculate network performance gain over median null AUPRC\n",
    "network_perf_gain = nef.calculate_network_performance_gain(AUPRC_values, null_AUPRCs_table, verbose=True)\n",
    "network_perf_gain.name = 'Test Network'"
   ]
  },
  {
   "cell_type": "code",
   "execution_count": 28,
   "metadata": {
    "collapsed": true,
    "jupyter": {
     "outputs_hidden": true
    }
   },
   "outputs": [],
   "source": [
    "# Rank network on average performance across gene sets vs performance on same gene sets in previous network set\n",
    "all_network_performance = pd.read_csv('~/Data/Network_Performance.csv', index_col=0)\n",
    "all_network_performance_filt = pd.concat([network_performance, all_network_performance.ix[network_performance.index]], axis=1)\n",
    "network_performance_rank_table = all_network_performance_filt.rank(axis=1, ascending=False)\n",
    "network_performance_rankings = network_performance_rank_table['Test Network']"
   ]
  },
  {
   "cell_type": "code",
   "execution_count": 30,
   "metadata": {
    "collapsed": true,
    "jupyter": {
     "outputs_hidden": true
    }
   },
   "outputs": [],
   "source": [
    "# Rank network on average performance gain across gene sets vs performance gain on same gene sets in previous network set\n",
    "all_network_perf_gain = pd.read_csv('~/Data/Network_Performance_Gain.csv', index_col=0)\n",
    "all_network_perf_gain_filt = pd.concat([network_perf_gain, all_network_perf_gain.ix[network_perf_gain.index]], axis=1)\n",
    "network_perf_gain_rank_table = all_network_performance_filt.rank(axis=1, ascending=False)\n",
    "network_perf_gain_rankings = network_perf_gain_rank_table['Test Network']"
   ]
  },
  {
   "cell_type": "code",
   "execution_count": 31,
   "metadata": {
    "collapsed": false,
    "jupyter": {
     "outputs_hidden": false
    }
   },
   "outputs": [
    {
     "data": {
      "text/html": [
       "<div>\n",
       "<table border=\"1\" class=\"dataframe\">\n",
       "  <thead>\n",
       "    <tr style=\"text-align: right;\">\n",
       "      <th></th>\n",
       "      <th>Network Performance</th>\n",
       "      <th>Network Performance Rank</th>\n",
       "      <th>Network Performance Gain</th>\n",
       "      <th>Network Performance Gain Rank</th>\n",
       "    </tr>\n",
       "  </thead>\n",
       "  <tbody>\n",
       "    <tr>\n",
       "      <th>Measles</th>\n",
       "      <td>250.901503</td>\n",
       "      <td>1.0</td>\n",
       "      <td>2.506668</td>\n",
       "      <td>1.0</td>\n",
       "    </tr>\n",
       "    <tr>\n",
       "      <th>Dermatomyositis</th>\n",
       "      <td>84.107679</td>\n",
       "      <td>1.0</td>\n",
       "      <td>2.436325</td>\n",
       "      <td>1.0</td>\n",
       "    </tr>\n",
       "    <tr>\n",
       "      <th>Hereditary Nonpolyposis Colorectal Cancer</th>\n",
       "      <td>76.032861</td>\n",
       "      <td>1.0</td>\n",
       "      <td>1.989239</td>\n",
       "      <td>1.0</td>\n",
       "    </tr>\n",
       "    <tr>\n",
       "      <th>Primary immune deficiency disorder</th>\n",
       "      <td>65.549563</td>\n",
       "      <td>1.0</td>\n",
       "      <td>2.354450</td>\n",
       "      <td>1.0</td>\n",
       "    </tr>\n",
       "    <tr>\n",
       "      <th>Bloom Syndrome</th>\n",
       "      <td>56.268981</td>\n",
       "      <td>1.0</td>\n",
       "      <td>1.882597</td>\n",
       "      <td>1.0</td>\n",
       "    </tr>\n",
       "    <tr>\n",
       "      <th>Sporadic Breast Carcinoma</th>\n",
       "      <td>56.068983</td>\n",
       "      <td>1.0</td>\n",
       "      <td>1.837060</td>\n",
       "      <td>1.0</td>\n",
       "    </tr>\n",
       "    <tr>\n",
       "      <th>Hepatoblastoma</th>\n",
       "      <td>48.344917</td>\n",
       "      <td>1.0</td>\n",
       "      <td>1.397277</td>\n",
       "      <td>1.0</td>\n",
       "    </tr>\n",
       "    <tr>\n",
       "      <th>Adenocarcinoma of colon</th>\n",
       "      <td>47.950858</td>\n",
       "      <td>1.0</td>\n",
       "      <td>1.195556</td>\n",
       "      <td>1.0</td>\n",
       "    </tr>\n",
       "    <tr>\n",
       "      <th>Aplasia Cutis Congenita</th>\n",
       "      <td>41.454155</td>\n",
       "      <td>1.0</td>\n",
       "      <td>1.798434</td>\n",
       "      <td>1.0</td>\n",
       "    </tr>\n",
       "    <tr>\n",
       "      <th>Dyslipidemias</th>\n",
       "      <td>79.867170</td>\n",
       "      <td>2.0</td>\n",
       "      <td>2.376294</td>\n",
       "      <td>2.0</td>\n",
       "    </tr>\n",
       "    <tr>\n",
       "      <th>Non-alcoholic Fatty Liver Disease</th>\n",
       "      <td>75.957008</td>\n",
       "      <td>2.0</td>\n",
       "      <td>1.248460</td>\n",
       "      <td>2.0</td>\n",
       "    </tr>\n",
       "    <tr>\n",
       "      <th>Aneurysm</th>\n",
       "      <td>69.403524</td>\n",
       "      <td>3.0</td>\n",
       "      <td>2.159474</td>\n",
       "      <td>3.0</td>\n",
       "    </tr>\n",
       "    <tr>\n",
       "      <th>Chronic Periodontitis</th>\n",
       "      <td>42.623537</td>\n",
       "      <td>4.0</td>\n",
       "      <td>2.281024</td>\n",
       "      <td>4.0</td>\n",
       "    </tr>\n",
       "    <tr>\n",
       "      <th>Synovitis</th>\n",
       "      <td>42.583997</td>\n",
       "      <td>5.0</td>\n",
       "      <td>2.484039</td>\n",
       "      <td>5.0</td>\n",
       "    </tr>\n",
       "    <tr>\n",
       "      <th>Periodontitis</th>\n",
       "      <td>41.843696</td>\n",
       "      <td>5.0</td>\n",
       "      <td>2.155949</td>\n",
       "      <td>5.0</td>\n",
       "    </tr>\n",
       "    <tr>\n",
       "      <th>Polycythemia Vera</th>\n",
       "      <td>33.728325</td>\n",
       "      <td>5.0</td>\n",
       "      <td>2.051311</td>\n",
       "      <td>5.0</td>\n",
       "    </tr>\n",
       "    <tr>\n",
       "      <th>Gastritis</th>\n",
       "      <td>32.452388</td>\n",
       "      <td>5.0</td>\n",
       "      <td>1.952797</td>\n",
       "      <td>5.0</td>\n",
       "    </tr>\n",
       "    <tr>\n",
       "      <th>Congenital contractural arachnodactyly</th>\n",
       "      <td>22.083322</td>\n",
       "      <td>5.0</td>\n",
       "      <td>1.190920</td>\n",
       "      <td>5.0</td>\n",
       "    </tr>\n",
       "    <tr>\n",
       "      <th>Allergic asthma</th>\n",
       "      <td>33.040549</td>\n",
       "      <td>7.0</td>\n",
       "      <td>1.615171</td>\n",
       "      <td>7.0</td>\n",
       "    </tr>\n",
       "    <tr>\n",
       "      <th>Ki-1+ Anaplastic Large Cell Lymphoma</th>\n",
       "      <td>25.734882</td>\n",
       "      <td>7.0</td>\n",
       "      <td>1.440266</td>\n",
       "      <td>7.0</td>\n",
       "    </tr>\n",
       "    <tr>\n",
       "      <th>Severe Combined Immunodeficiency</th>\n",
       "      <td>25.141978</td>\n",
       "      <td>7.0</td>\n",
       "      <td>1.595754</td>\n",
       "      <td>7.0</td>\n",
       "    </tr>\n",
       "    <tr>\n",
       "      <th>Cutaneous Melanoma</th>\n",
       "      <td>23.354293</td>\n",
       "      <td>8.0</td>\n",
       "      <td>1.122571</td>\n",
       "      <td>8.0</td>\n",
       "    </tr>\n",
       "    <tr>\n",
       "      <th>Respiratory Syncytial Virus Infections</th>\n",
       "      <td>42.503240</td>\n",
       "      <td>9.0</td>\n",
       "      <td>2.045381</td>\n",
       "      <td>9.0</td>\n",
       "    </tr>\n",
       "    <tr>\n",
       "      <th>Pituitary Adenoma</th>\n",
       "      <td>23.038729</td>\n",
       "      <td>9.0</td>\n",
       "      <td>0.745174</td>\n",
       "      <td>9.0</td>\n",
       "    </tr>\n",
       "    <tr>\n",
       "      <th>Essential Hypertension</th>\n",
       "      <td>22.967712</td>\n",
       "      <td>11.0</td>\n",
       "      <td>1.043329</td>\n",
       "      <td>11.0</td>\n",
       "    </tr>\n",
       "    <tr>\n",
       "      <th>Malignant mesothelioma</th>\n",
       "      <td>22.209080</td>\n",
       "      <td>12.0</td>\n",
       "      <td>1.118636</td>\n",
       "      <td>12.0</td>\n",
       "    </tr>\n",
       "    <tr>\n",
       "      <th>Mesothelioma (malignant, clinical disorder) (disorder)</th>\n",
       "      <td>19.829958</td>\n",
       "      <td>13.0</td>\n",
       "      <td>1.126404</td>\n",
       "      <td>13.0</td>\n",
       "    </tr>\n",
       "    <tr>\n",
       "      <th>Breast Cancer, Familial</th>\n",
       "      <td>17.304530</td>\n",
       "      <td>14.0</td>\n",
       "      <td>1.507999</td>\n",
       "      <td>14.0</td>\n",
       "    </tr>\n",
       "    <tr>\n",
       "      <th>Eclampsia</th>\n",
       "      <td>20.228103</td>\n",
       "      <td>15.0</td>\n",
       "      <td>2.022132</td>\n",
       "      <td>15.0</td>\n",
       "    </tr>\n",
       "    <tr>\n",
       "      <th>FANCONI ANEMIA, COMPLEMENTATION GROUP A (disorder)</th>\n",
       "      <td>20.000819</td>\n",
       "      <td>17.0</td>\n",
       "      <td>0.782875</td>\n",
       "      <td>17.0</td>\n",
       "    </tr>\n",
       "    <tr>\n",
       "      <th>Common Variable Immunodeficiency</th>\n",
       "      <td>15.642443</td>\n",
       "      <td>17.0</td>\n",
       "      <td>2.153418</td>\n",
       "      <td>17.0</td>\n",
       "    </tr>\n",
       "    <tr>\n",
       "      <th>Fanconi Anemia</th>\n",
       "      <td>17.138065</td>\n",
       "      <td>18.0</td>\n",
       "      <td>0.572853</td>\n",
       "      <td>18.0</td>\n",
       "    </tr>\n",
       "  </tbody>\n",
       "</table>\n",
       "</div>"
      ],
      "text/plain": [
       "                                                    Network Performance  \\\n",
       "Measles                                                      250.901503   \n",
       "Dermatomyositis                                               84.107679   \n",
       "Hereditary Nonpolyposis Colorectal Cancer                     76.032861   \n",
       "Primary immune deficiency disorder                            65.549563   \n",
       "Bloom Syndrome                                                56.268981   \n",
       "Sporadic Breast Carcinoma                                     56.068983   \n",
       "Hepatoblastoma                                                48.344917   \n",
       "Adenocarcinoma of colon                                       47.950858   \n",
       "Aplasia Cutis Congenita                                       41.454155   \n",
       "Dyslipidemias                                                 79.867170   \n",
       "Non-alcoholic Fatty Liver Disease                             75.957008   \n",
       "Aneurysm                                                      69.403524   \n",
       "Chronic Periodontitis                                         42.623537   \n",
       "Synovitis                                                     42.583997   \n",
       "Periodontitis                                                 41.843696   \n",
       "Polycythemia Vera                                             33.728325   \n",
       "Gastritis                                                     32.452388   \n",
       "Congenital contractural arachnodactyly                        22.083322   \n",
       "Allergic asthma                                               33.040549   \n",
       "Ki-1+ Anaplastic Large Cell Lymphoma                          25.734882   \n",
       "Severe Combined Immunodeficiency                              25.141978   \n",
       "Cutaneous Melanoma                                            23.354293   \n",
       "Respiratory Syncytial Virus Infections                        42.503240   \n",
       "Pituitary Adenoma                                             23.038729   \n",
       "Essential Hypertension                                        22.967712   \n",
       "Malignant mesothelioma                                        22.209080   \n",
       "Mesothelioma (malignant, clinical disorder) (di...            19.829958   \n",
       "Breast Cancer, Familial                                       17.304530   \n",
       "Eclampsia                                                     20.228103   \n",
       "FANCONI ANEMIA, COMPLEMENTATION GROUP A (disorder)            20.000819   \n",
       "Common Variable Immunodeficiency                              15.642443   \n",
       "Fanconi Anemia                                                17.138065   \n",
       "\n",
       "                                                    Network Performance Rank  \\\n",
       "Measles                                                                  1.0   \n",
       "Dermatomyositis                                                          1.0   \n",
       "Hereditary Nonpolyposis Colorectal Cancer                                1.0   \n",
       "Primary immune deficiency disorder                                       1.0   \n",
       "Bloom Syndrome                                                           1.0   \n",
       "Sporadic Breast Carcinoma                                                1.0   \n",
       "Hepatoblastoma                                                           1.0   \n",
       "Adenocarcinoma of colon                                                  1.0   \n",
       "Aplasia Cutis Congenita                                                  1.0   \n",
       "Dyslipidemias                                                            2.0   \n",
       "Non-alcoholic Fatty Liver Disease                                        2.0   \n",
       "Aneurysm                                                                 3.0   \n",
       "Chronic Periodontitis                                                    4.0   \n",
       "Synovitis                                                                5.0   \n",
       "Periodontitis                                                            5.0   \n",
       "Polycythemia Vera                                                        5.0   \n",
       "Gastritis                                                                5.0   \n",
       "Congenital contractural arachnodactyly                                   5.0   \n",
       "Allergic asthma                                                          7.0   \n",
       "Ki-1+ Anaplastic Large Cell Lymphoma                                     7.0   \n",
       "Severe Combined Immunodeficiency                                         7.0   \n",
       "Cutaneous Melanoma                                                       8.0   \n",
       "Respiratory Syncytial Virus Infections                                   9.0   \n",
       "Pituitary Adenoma                                                        9.0   \n",
       "Essential Hypertension                                                  11.0   \n",
       "Malignant mesothelioma                                                  12.0   \n",
       "Mesothelioma (malignant, clinical disorder) (di...                      13.0   \n",
       "Breast Cancer, Familial                                                 14.0   \n",
       "Eclampsia                                                               15.0   \n",
       "FANCONI ANEMIA, COMPLEMENTATION GROUP A (disorder)                      17.0   \n",
       "Common Variable Immunodeficiency                                        17.0   \n",
       "Fanconi Anemia                                                          18.0   \n",
       "\n",
       "                                                    Network Performance Gain  \\\n",
       "Measles                                                             2.506668   \n",
       "Dermatomyositis                                                     2.436325   \n",
       "Hereditary Nonpolyposis Colorectal Cancer                           1.989239   \n",
       "Primary immune deficiency disorder                                  2.354450   \n",
       "Bloom Syndrome                                                      1.882597   \n",
       "Sporadic Breast Carcinoma                                           1.837060   \n",
       "Hepatoblastoma                                                      1.397277   \n",
       "Adenocarcinoma of colon                                             1.195556   \n",
       "Aplasia Cutis Congenita                                             1.798434   \n",
       "Dyslipidemias                                                       2.376294   \n",
       "Non-alcoholic Fatty Liver Disease                                   1.248460   \n",
       "Aneurysm                                                            2.159474   \n",
       "Chronic Periodontitis                                               2.281024   \n",
       "Synovitis                                                           2.484039   \n",
       "Periodontitis                                                       2.155949   \n",
       "Polycythemia Vera                                                   2.051311   \n",
       "Gastritis                                                           1.952797   \n",
       "Congenital contractural arachnodactyly                              1.190920   \n",
       "Allergic asthma                                                     1.615171   \n",
       "Ki-1+ Anaplastic Large Cell Lymphoma                                1.440266   \n",
       "Severe Combined Immunodeficiency                                    1.595754   \n",
       "Cutaneous Melanoma                                                  1.122571   \n",
       "Respiratory Syncytial Virus Infections                              2.045381   \n",
       "Pituitary Adenoma                                                   0.745174   \n",
       "Essential Hypertension                                              1.043329   \n",
       "Malignant mesothelioma                                              1.118636   \n",
       "Mesothelioma (malignant, clinical disorder) (di...                  1.126404   \n",
       "Breast Cancer, Familial                                             1.507999   \n",
       "Eclampsia                                                           2.022132   \n",
       "FANCONI ANEMIA, COMPLEMENTATION GROUP A (disorder)                  0.782875   \n",
       "Common Variable Immunodeficiency                                    2.153418   \n",
       "Fanconi Anemia                                                      0.572853   \n",
       "\n",
       "                                                    Network Performance Gain Rank  \n",
       "Measles                                                                       1.0  \n",
       "Dermatomyositis                                                               1.0  \n",
       "Hereditary Nonpolyposis Colorectal Cancer                                     1.0  \n",
       "Primary immune deficiency disorder                                            1.0  \n",
       "Bloom Syndrome                                                                1.0  \n",
       "Sporadic Breast Carcinoma                                                     1.0  \n",
       "Hepatoblastoma                                                                1.0  \n",
       "Adenocarcinoma of colon                                                       1.0  \n",
       "Aplasia Cutis Congenita                                                       1.0  \n",
       "Dyslipidemias                                                                 2.0  \n",
       "Non-alcoholic Fatty Liver Disease                                             2.0  \n",
       "Aneurysm                                                                      3.0  \n",
       "Chronic Periodontitis                                                         4.0  \n",
       "Synovitis                                                                     5.0  \n",
       "Periodontitis                                                                 5.0  \n",
       "Polycythemia Vera                                                             5.0  \n",
       "Gastritis                                                                     5.0  \n",
       "Congenital contractural arachnodactyly                                        5.0  \n",
       "Allergic asthma                                                               7.0  \n",
       "Ki-1+ Anaplastic Large Cell Lymphoma                                          7.0  \n",
       "Severe Combined Immunodeficiency                                              7.0  \n",
       "Cutaneous Melanoma                                                            8.0  \n",
       "Respiratory Syncytial Virus Infections                                        9.0  \n",
       "Pituitary Adenoma                                                             9.0  \n",
       "Essential Hypertension                                                       11.0  \n",
       "Malignant mesothelioma                                                       12.0  \n",
       "Mesothelioma (malignant, clinical disorder) (di...                           13.0  \n",
       "Breast Cancer, Familial                                                      14.0  \n",
       "Eclampsia                                                                    15.0  \n",
       "FANCONI ANEMIA, COMPLEMENTATION GROUP A (disorder)                           17.0  \n",
       "Common Variable Immunodeficiency                                             17.0  \n",
       "Fanconi Anemia                                                               18.0  "
      ]
     },
     "execution_count": 31,
     "metadata": {},
     "output_type": "execute_result"
    }
   ],
   "source": [
    "# Network Performance\n",
    "network_performance_metric_ranks = pd.concat([network_performance, network_performance_rankings, network_perf_gain, network_perf_gain_rankings], axis=1)\n",
    "network_performance_metric_ranks.columns = ['Network Performance', 'Network Performance Rank', 'Network Performance Gain', 'Network Performance Gain Rank']\n",
    "network_performance_metric_ranks.sort_values(by=['Network Performance Rank', 'Network Performance', 'Network Performance Gain Rank', 'Network Performance Gain'],\n",
    "                                             ascending=[True, False, True, False])"
   ]
  },
  {
   "cell_type": "code",
   "execution_count": 40,
   "metadata": {
    "collapsed": false,
    "jupyter": {
     "outputs_hidden": false
    }
   },
   "outputs": [
    {
     "name": "stdout",
     "output_type": "stream",
     "text": [
      "Nodes:\t9432\n",
      "Edges:\t151352\n",
      "Avg Node Degree:\t32.093299406276508\n",
      "Edge Density:\t0.0034029582659608213\n",
      "Avg Network Performance Rank:\t6.53125\n",
      "Avg Network Performance Rank, Rank:\t7\n",
      "Avg Network Performance Gain Rank:\t6.53125\n",
      "Avg Network Performance Gain Rank, Rank:\t7\n"
     ]
    }
   ],
   "source": [
    "# Construct network summary table\n",
    "network_summary = {}\n",
    "network_summary['Nodes'] = int(len(network.nodes()))\n",
    "network_summary['Edges'] = int(len(network.edges()))\n",
    "network_summary['Avg Node Degree'] = np.mean(network.degree().values())\n",
    "network_summary['Edge Density'] = 2*network_summary['Edges'] / float((network_summary['Nodes']*(network_summary['Nodes']-1)))\n",
    "network_summary['Avg Network Performance Rank'] = network_performance_rankings.mean()\n",
    "network_summary['Avg Network Performance Rank, Rank'] = int(network_performance_rank_table.mean().rank().ix['Test Network'])\n",
    "network_summary['Avg Network Performance Gain Rank'] = network_perf_gain_rankings.mean()\n",
    "network_summary['Avg Network Performance Gain Rank, Rank'] = int(network_perf_gain_rank_table.mean().rank().ix['Test Network'])\n",
    "for item in ['Nodes', 'Edges' ,'Avg Node Degree', 'Edge Density', 'Avg Network Performance Rank', 'Avg Network Performance Rank, Rank',\n",
    "             'Avg Network Performance Gain Rank', 'Avg Network Performance Gain Rank, Rank']:\n",
    "    print item+':\\t'+repr(network_summary[item])"
   ]
  },
  {
   "cell_type": "code",
   "execution_count": null,
   "metadata": {
    "collapsed": true,
    "jupyter": {
     "outputs_hidden": true
    }
   },
   "outputs": [],
   "source": []
  }
 ],
 "metadata": {
  "kernelspec": {
   "display_name": "Python 2",
   "language": "python",
   "name": "python2"
  },
  "language_info": {
   "codemirror_mode": {
    "name": "ipython",
    "version": 2
   },
   "file_extension": ".py",
   "mimetype": "text/x-python",
   "name": "python",
   "nbconvert_exporter": "python",
   "pygments_lexer": "ipython2",
   "version": "2.7.18"
  }
 },
 "nbformat": 4,
 "nbformat_minor": 4
}
