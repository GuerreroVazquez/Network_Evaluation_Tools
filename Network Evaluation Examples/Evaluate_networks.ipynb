{
 "cells": [
  {
   "cell_type": "code",
   "execution_count": 18,
   "metadata": {
    "collapsed": false,
    "jupyter": {
     "outputs_hidden": false
    }
   },
   "outputs": [],
   "source": [
    "\n",
    "from network_evaluation_tools import data_import_tools as dit\n",
    "from network_evaluation_tools import network_evaluation_functions as nef\n",
    "from network_evaluation_tools import network_propagation as prop\n",
    "import pandas as pd\n",
    "import numpy as np"
   ]
  },
  {
   "cell_type": "code",
   "execution_count": 5,
   "metadata": {},
   "outputs": [
    {
     "name": "stdout",
     "output_type": "stream",
     "text": [
      "/home/karen/Documents/GitHub/Network_Evaluation_Tools\n"
     ]
    }
   ],
   "source": [
    "cd .."
   ]
  },
  {
   "cell_type": "code",
   "execution_count": 1,
   "metadata": {},
   "outputs": [],
   "source": [
    "evaluation_network_folder = 'Data/Networks/'\n",
    "evaluation_lists_folder = 'Data/Evaluations/'"
   ]
  },
  {
   "cell_type": "code",
   "execution_count": 20,
   "metadata": {},
   "outputs": [],
   "source": [
    "from os import listdir, path\n",
    "from os.path import isfile, join\n"
   ]
  },
  {
   "cell_type": "code",
   "execution_count": 13,
   "metadata": {},
   "outputs": [],
   "source": [
    "list_networks = [evaluation_network_folder+f for f in listdir(evaluation_network_folder) if isfile(join(evaluation_network_folder, f))]"
   ]
  },
  {
   "cell_type": "code",
   "execution_count": 16,
   "metadata": {},
   "outputs": [
    {
     "data": {
      "text/plain": [
       "['Data/Evaluations/DisGeNET_genesets.txt',\n",
       " 'Data/Evaluations/tissues.txt',\n",
       " 'Data/Evaluations/systems.txt']"
      ]
     },
     "execution_count": 16,
     "metadata": {},
     "output_type": "execute_result"
    }
   ],
   "source": [
    "list_evaluations"
   ]
  },
  {
   "cell_type": "code",
   "execution_count": 15,
   "metadata": {},
   "outputs": [],
   "source": [
    "list_evaluations = [evaluation_lists_folder+f for f in listdir(evaluation_lists_folder) if isfile(join(evaluation_lists_folder, f))]"
   ]
  },
  {
   "cell_type": "code",
   "execution_count": 33,
   "metadata": {},
   "outputs": [],
   "source": [
    "network_name = path.splitext(evaluating_file)[0].split(evaluation_lists_folder)[1] +\"_\" + path.splitext(evaluating_network)[0].split(evaluation_network_folder)[1]"
   ]
  },
  {
   "cell_type": "code",
   "execution_count": 34,
   "metadata": {},
   "outputs": [
    {
     "data": {
      "text/plain": [
       "'DisGeNET_genesets_Young2Old_95_edge_14'"
      ]
     },
     "execution_count": 34,
     "metadata": {},
     "output_type": "execute_result"
    }
   ],
   "source": [
    "network_name "
   ]
  },
  {
   "cell_type": "code",
   "execution_count": 37,
   "metadata": {},
   "outputs": [],
   "source": [
    "%%capture\n",
    "performances = {}\n",
    "gains = {}\n",
    "for evaluating_file in list_evaluations:\n",
    "    genesets = dit.load_node_sets(evaluating_file)\n",
    "    for evaluating_network in list_networks:\n",
    "        network_name = path.splitext(evaluating_file)[0].split(evaluation_lists_folder)[1] +\"_\" + path.splitext(evaluating_network)[0].split(evaluation_network_folder)[1]\n",
    "        genesets_p = nef.calculate_p(network, genesets)\n",
    "        network_nodes = [str(gene) for gene in network.nodes()]\n",
    "        nodesets_p = {}\n",
    "        selected = {}\n",
    "        m=-0.18887257\n",
    "        b=0.64897403\n",
    "        nodesets = genesets\n",
    "        for nodeset in nodesets:\n",
    "                nodesets_coverage = len([node for node in nodesets[nodeset] if node in network_nodes])\n",
    "                if nodesets_coverage > 0:\n",
    "                    nodesets_p[nodeset] = round(m*np.log10(nodesets_coverage)+b, 4)\n",
    "                    selected[nodeset] = nodesets[nodeset]\n",
    "                else:\n",
    "                    print nodeset, ' does not have common genes'\n",
    "        genesets_p = nodesets_p\n",
    "        genesets = selected\n",
    "        alpha = prop.calculate_alpha(network)\n",
    "        kernel = nef.construct_prop_kernel(network, alpha=alpha, verbose=True)\n",
    "        AUPRC_values = nef.small_network_AUPRC_wrapper(kernel, genesets, genesets_p, n=30, cores=1, verbose=True)\n",
    "        null_AUPRCs = []\n",
    "        for i in range(10):\n",
    "            shuffNet = nef.shuffle_network(network, max_tries_n=10, verbose=True)\n",
    "            shuffNet_kernel = nef.construct_prop_kernel(shuffNet, alpha=alpha, verbose=False)\n",
    "            shuffNet_AUPRCs = nef.small_network_AUPRC_wrapper(shuffNet_kernel, genesets, genesets_p, n=30, cores=4, verbose=False)\n",
    "            null_AUPRCs.append(shuffNet_AUPRCs)\n",
    "            print 'shuffNet', repr(i+1), 'AUPRCs calculated'\n",
    "        null_AUPRCs_table = pd.concat(null_AUPRCs, axis=1)\n",
    "        null_AUPRCs_table.columns = ['shuffNet'+repr(i+1) for i in range(len(null_AUPRCs))]\n",
    "        network_performance = nef.calculate_network_performance_score(AUPRC_values, null_AUPRCs_table, verbose=True)\n",
    "        network_performance.name = network_name\n",
    "        network_perf_gain = nef.calculate_network_performance_gain(AUPRC_values, null_AUPRCs_table, verbose=True)\n",
    "        network_perf_gain.name = network_name\n",
    "        performances[network_name]=network_performance\n",
    "        gains[network_name]=network_performance\n",
    "\n",
    "        "
   ]
  },
  {
   "cell_type": "code",
   "execution_count": 67,
   "metadata": {},
   "outputs": [],
   "source": [
    "performances['elements']= section_lens\n",
    "gains['elements']= section_lens"
   ]
  },
  {
   "cell_type": "code",
   "execution_count": 68,
   "metadata": {},
   "outputs": [],
   "source": [
    "df_p = pd.DataFrame(performances)\n",
    "df_p.to_csv('Data/Network_Performance_J.csv')"
   ]
  },
  {
   "cell_type": "code",
   "execution_count": 69,
   "metadata": {},
   "outputs": [],
   "source": [
    "df_g = pd.DataFrame(performances)\n",
    "df_g.to_csv('Data/Network_Performance_Gain_J.csv')"
   ]
  },
  {
   "cell_type": "code",
   "execution_count": 71,
   "metadata": {},
   "outputs": [
    {
     "data": {
      "text/plain": [
       "<matplotlib.axes._subplots.AxesSubplot at 0x7fa9d08792d0>"
      ]
     },
     "execution_count": 71,
     "metadata": {},
     "output_type": "execute_result"
    }
   ],
   "source": [
    "pd.Series(performances['DisGeNET_genesets_Young2Old_95_edge_14']).plot(kind='hist', bins=[0,10,20]) # `bins` defines the start and end points of bins\n"
   ]
  },
  {
   "cell_type": "code",
   "execution_count": 21,
   "metadata": {
    "tags": []
   },
   "outputs": [],
   "source": [
    "# Rank network on average performance across gene sets vs performance on same gene sets in previous network set\n",
    "all_network_performance = pd.read_csv('Data/Network_Performance_J.csv', index_col=0, header=None)\n"
   ]
  },
  {
   "cell_type": "code",
   "execution_count": 22,
   "metadata": {},
   "outputs": [
    {
     "name": "stderr",
     "output_type": "stream",
     "text": [
      "/home/karen/anaconda3/envs/py27/lib/python2.7/site-packages/ipykernel_launcher.py:1: DeprecationWarning: \n",
      ".ix is deprecated. Please use\n",
      ".loc for label based indexing or\n",
      ".iloc for positional indexing\n",
      "\n",
      "See the documentation here:\n",
      "http://pandas.pydata.org/pandas-docs/stable/indexing.html#ix-indexer-is-deprecated\n",
      "  \"\"\"Entry point for launching an IPython kernel.\n"
     ]
    }
   ],
   "source": [
    "all_network_performance_filt = pd.concat([network_performance, all_network_performance.ix[network_performance.index]], axis=1)\n",
    "network_performance_rank_table = all_network_performance_filt.rank(axis=1, ascending=False)\n",
    "network_performance_rankings = network_performance_rank_table['Test Network']"
   ]
  },
  {
   "cell_type": "code",
   "execution_count": 23,
   "metadata": {},
   "outputs": [
    {
     "name": "stderr",
     "output_type": "stream",
     "text": [
      "/home/karen/anaconda3/envs/py27/lib/python2.7/site-packages/ipykernel_launcher.py:3: DeprecationWarning: \n",
      ".ix is deprecated. Please use\n",
      ".loc for label based indexing or\n",
      ".iloc for positional indexing\n",
      "\n",
      "See the documentation here:\n",
      "http://pandas.pydata.org/pandas-docs/stable/indexing.html#ix-indexer-is-deprecated\n",
      "  This is separate from the ipykernel package so we can avoid doing imports until\n"
     ]
    }
   ],
   "source": [
    "# Rank network on average performance gain across gene sets vs performance gain on same gene sets in previous network set\n",
    "all_network_perf_gain = pd.read_csv('Data/Network_Performance_Gain_J.csv', index_col=0, header=None)\n",
    "all_network_perf_gain_filt = pd.concat([network_perf_gain, all_network_perf_gain.ix[network_perf_gain.index]], axis=1)\n",
    "\n"
   ]
  },
  {
   "cell_type": "code",
   "execution_count": 24,
   "metadata": {},
   "outputs": [
    {
     "data": {
      "text/html": [
       "<div>\n",
       "<style scoped>\n",
       "    .dataframe tbody tr th:only-of-type {\n",
       "        vertical-align: middle;\n",
       "    }\n",
       "\n",
       "    .dataframe tbody tr th {\n",
       "        vertical-align: top;\n",
       "    }\n",
       "\n",
       "    .dataframe thead th {\n",
       "        text-align: right;\n",
       "    }\n",
       "</style>\n",
       "<table border=\"1\" class=\"dataframe\">\n",
       "  <thead>\n",
       "    <tr style=\"text-align: right;\">\n",
       "      <th></th>\n",
       "      <th>Test Network</th>\n",
       "      <th>1</th>\n",
       "    </tr>\n",
       "  </thead>\n",
       "  <tbody>\n",
       "    <tr>\n",
       "      <th>brain</th>\n",
       "      <td>-0.000000</td>\n",
       "      <td>-0.000000</td>\n",
       "    </tr>\n",
       "    <tr>\n",
       "      <th>kidney</th>\n",
       "      <td>-0.000000</td>\n",
       "      <td>-0.000000</td>\n",
       "    </tr>\n",
       "    <tr>\n",
       "      <th>pancreas</th>\n",
       "      <td>-0.000000</td>\n",
       "      <td>-0.000000</td>\n",
       "    </tr>\n",
       "    <tr>\n",
       "      <th>skin</th>\n",
       "      <td>-0.000000</td>\n",
       "      <td>-0.000000</td>\n",
       "    </tr>\n",
       "    <tr>\n",
       "      <th>spleen</th>\n",
       "      <td>-0.000000</td>\n",
       "      <td>-0.000000</td>\n",
       "    </tr>\n",
       "    <tr>\n",
       "      <th>testis</th>\n",
       "      <td>0.019718</td>\n",
       "      <td>0.019718</td>\n",
       "    </tr>\n",
       "  </tbody>\n",
       "</table>\n",
       "</div>"
      ],
      "text/plain": [
       "          Test Network         1\n",
       "brain        -0.000000 -0.000000\n",
       "kidney       -0.000000 -0.000000\n",
       "pancreas     -0.000000 -0.000000\n",
       "skin         -0.000000 -0.000000\n",
       "spleen       -0.000000 -0.000000\n",
       "testis        0.019718  0.019718"
      ]
     },
     "execution_count": 24,
     "metadata": {},
     "output_type": "execute_result"
    }
   ],
   "source": [
    "all_network_perf_gain_filt[:6]"
   ]
  },
  {
   "cell_type": "code",
   "execution_count": 25,
   "metadata": {},
   "outputs": [],
   "source": [
    "network_perf_gain_rank_table = all_network_performance_filt.rank(axis=1, ascending=False)\n",
    "\n"
   ]
  },
  {
   "cell_type": "code",
   "execution_count": 26,
   "metadata": {},
   "outputs": [],
   "source": [
    "network_perf_gain_rankings = network_perf_gain_rank_table['Test Network']"
   ]
  },
  {
   "cell_type": "code",
   "execution_count": 27,
   "metadata": {},
   "outputs": [
    {
     "data": {
      "text/html": [
       "<div>\n",
       "<style scoped>\n",
       "    .dataframe tbody tr th:only-of-type {\n",
       "        vertical-align: middle;\n",
       "    }\n",
       "\n",
       "    .dataframe tbody tr th {\n",
       "        vertical-align: top;\n",
       "    }\n",
       "\n",
       "    .dataframe thead th {\n",
       "        text-align: right;\n",
       "    }\n",
       "</style>\n",
       "<table border=\"1\" class=\"dataframe\">\n",
       "  <thead>\n",
       "    <tr style=\"text-align: right;\">\n",
       "      <th></th>\n",
       "      <th>Test Network</th>\n",
       "      <th>1</th>\n",
       "    </tr>\n",
       "  </thead>\n",
       "  <tbody>\n",
       "    <tr>\n",
       "      <th>brain</th>\n",
       "      <td>NaN</td>\n",
       "      <td>NaN</td>\n",
       "    </tr>\n",
       "    <tr>\n",
       "      <th>kidney</th>\n",
       "      <td>NaN</td>\n",
       "      <td>NaN</td>\n",
       "    </tr>\n",
       "    <tr>\n",
       "      <th>pancreas</th>\n",
       "      <td>NaN</td>\n",
       "      <td>NaN</td>\n",
       "    </tr>\n",
       "    <tr>\n",
       "      <th>skin</th>\n",
       "      <td>NaN</td>\n",
       "      <td>NaN</td>\n",
       "    </tr>\n",
       "    <tr>\n",
       "      <th>spleen</th>\n",
       "      <td>NaN</td>\n",
       "      <td>NaN</td>\n",
       "    </tr>\n",
       "    <tr>\n",
       "      <th>testis</th>\n",
       "      <td>1.5</td>\n",
       "      <td>1.5</td>\n",
       "    </tr>\n",
       "  </tbody>\n",
       "</table>\n",
       "</div>"
      ],
      "text/plain": [
       "          Test Network    1\n",
       "brain              NaN  NaN\n",
       "kidney             NaN  NaN\n",
       "pancreas           NaN  NaN\n",
       "skin               NaN  NaN\n",
       "spleen             NaN  NaN\n",
       "testis             1.5  1.5"
      ]
     },
     "execution_count": 27,
     "metadata": {},
     "output_type": "execute_result"
    }
   ],
   "source": [
    "network_perf_gain_rank_table"
   ]
  },
  {
   "cell_type": "code",
   "execution_count": 28,
   "metadata": {
    "collapsed": false,
    "jupyter": {
     "outputs_hidden": false
    }
   },
   "outputs": [
    {
     "data": {
      "text/html": [
       "<div>\n",
       "<style scoped>\n",
       "    .dataframe tbody tr th:only-of-type {\n",
       "        vertical-align: middle;\n",
       "    }\n",
       "\n",
       "    .dataframe tbody tr th {\n",
       "        vertical-align: top;\n",
       "    }\n",
       "\n",
       "    .dataframe thead th {\n",
       "        text-align: right;\n",
       "    }\n",
       "</style>\n",
       "<table border=\"1\" class=\"dataframe\">\n",
       "  <thead>\n",
       "    <tr style=\"text-align: right;\">\n",
       "      <th></th>\n",
       "      <th>Network Performance</th>\n",
       "      <th>Network Performance Rank</th>\n",
       "      <th>Network Performance Gain</th>\n",
       "      <th>Network Performance Gain Rank</th>\n",
       "    </tr>\n",
       "  </thead>\n",
       "  <tbody>\n",
       "    <tr>\n",
       "      <th>testis</th>\n",
       "      <td>0.666233</td>\n",
       "      <td>1.5</td>\n",
       "      <td>0.019718</td>\n",
       "      <td>1.5</td>\n",
       "    </tr>\n",
       "    <tr>\n",
       "      <th>brain</th>\n",
       "      <td>NaN</td>\n",
       "      <td>NaN</td>\n",
       "      <td>-0.000000</td>\n",
       "      <td>NaN</td>\n",
       "    </tr>\n",
       "    <tr>\n",
       "      <th>kidney</th>\n",
       "      <td>NaN</td>\n",
       "      <td>NaN</td>\n",
       "      <td>-0.000000</td>\n",
       "      <td>NaN</td>\n",
       "    </tr>\n",
       "    <tr>\n",
       "      <th>pancreas</th>\n",
       "      <td>NaN</td>\n",
       "      <td>NaN</td>\n",
       "      <td>-0.000000</td>\n",
       "      <td>NaN</td>\n",
       "    </tr>\n",
       "    <tr>\n",
       "      <th>skin</th>\n",
       "      <td>NaN</td>\n",
       "      <td>NaN</td>\n",
       "      <td>-0.000000</td>\n",
       "      <td>NaN</td>\n",
       "    </tr>\n",
       "    <tr>\n",
       "      <th>spleen</th>\n",
       "      <td>NaN</td>\n",
       "      <td>NaN</td>\n",
       "      <td>-0.000000</td>\n",
       "      <td>NaN</td>\n",
       "    </tr>\n",
       "  </tbody>\n",
       "</table>\n",
       "</div>"
      ],
      "text/plain": [
       "          Network Performance  Network Performance Rank  \\\n",
       "testis               0.666233                       1.5   \n",
       "brain                     NaN                       NaN   \n",
       "kidney                    NaN                       NaN   \n",
       "pancreas                  NaN                       NaN   \n",
       "skin                      NaN                       NaN   \n",
       "spleen                    NaN                       NaN   \n",
       "\n",
       "          Network Performance Gain  Network Performance Gain Rank  \n",
       "testis                    0.019718                            1.5  \n",
       "brain                    -0.000000                            NaN  \n",
       "kidney                   -0.000000                            NaN  \n",
       "pancreas                 -0.000000                            NaN  \n",
       "skin                     -0.000000                            NaN  \n",
       "spleen                   -0.000000                            NaN  "
      ]
     },
     "execution_count": 28,
     "metadata": {},
     "output_type": "execute_result"
    }
   ],
   "source": [
    "# Network Performance\n",
    "network_performance_metric_ranks = pd.concat([network_performance, network_performance_rankings, network_perf_gain, network_perf_gain_rankings], axis=1)\n",
    "network_performance_metric_ranks.columns = ['Network Performance', 'Network Performance Rank', 'Network Performance Gain', 'Network Performance Gain Rank']\n",
    "network_performance_metric_ranks.sort_values(by=['Network Performance Rank', 'Network Performance', 'Network Performance Gain Rank', 'Network Performance Gain'],\n",
    "                                             ascending=[True, False, True, False])"
   ]
  },
  {
   "cell_type": "code",
   "execution_count": 29,
   "metadata": {
    "collapsed": false,
    "jupyter": {
     "outputs_hidden": false
    }
   },
   "outputs": [],
   "source": [
    "# Construct network summary table\n",
    "network_summary = {}\n",
    "network_summary['Nodes'] = int(len(network.nodes()))\n",
    "network_summary['Edges'] = int(len(network.edges()))\n"
   ]
  },
  {
   "cell_type": "code",
   "execution_count": 30,
   "metadata": {},
   "outputs": [],
   "source": [
    "network_summary['Avg Node Degree'] = np.mean(dict(network.degree()).values())\n"
   ]
  },
  {
   "cell_type": "code",
   "execution_count": 31,
   "metadata": {},
   "outputs": [
    {
     "data": {
      "text/plain": [
       "DegreeView({u'HDAC1': 1, u'TGFB1': 2, u'BAG6': 1, u'EBNA-LP': 1, u'CRELD2': 1, u'EEF1A1': 1, u'EEF1A2': 18, u'COPS6': 1, u'COPS5': 2, u'Source': 1, u'CDKN2A': 28, u'hsa-miR-10b-5p': 2, u'GMNN': 1, u'OTUB1': 1, u'hsa-miR-181a-5p': 2, u'CDC6': 1, u'CDC7': 2, u'ubiq_human': 1, u'hsa-miR-22-3p': 2, u'LRRK2': 3, u'Terget': 1, u'TUBA1A': 1, u'DEAF1': 1, u'CKS1B': 1, u'hsa-miR-519d-3p': 1, u'hsa-miR-205-5p': 2, u'CDK3': 1, u'MAPK6': 2, u'hsa-miR-92a-3p': 2, u'KSR1': 1, u'hsa-miR-93-5p': 1, u'HRAS': 2, u'hsa-miR-29a-3p': 3, u'PCNA': 1, u'hsa-miR-21-5p': 2, u'MCM10': 1, u'PTEN': 15, u'RAB1A': 1, u'SP1': 5, u'M': 1, u'BMI1': 2, u'EEF1B2': 1, u'P': 1, u'hsa-miR-519a-3p': 1, u'hsa-miR-17-5p': 3, u'MDM2': 2, u'hsa-miR-29b-3p': 4, u'hsa-miR-200c-3p': 3, u'TP53': 2, u'CCND1': 3, u'hsa-miR-106a-5p': 1, u'CUL4A': 1, u'hsa-miR-155-5p': 2, u'HTT': 1, u'CDK4': 1, u'FGB': 1, u'CDK6': 3, u'CDC45': 1, u'ACTB': 1, u'PSEN1': 1})"
      ]
     },
     "execution_count": 31,
     "metadata": {},
     "output_type": "execute_result"
    }
   ],
   "source": [
    "network.degree()"
   ]
  },
  {
   "cell_type": "code",
   "execution_count": 32,
   "metadata": {},
   "outputs": [
    {
     "name": "stdout",
     "output_type": "stream",
     "text": [
      "Nodes:\t60\n",
      "Edges:\t76\n",
      "Avg Node Degree:\t2.533333333333333\n",
      "Edge Density:\t0.04293785310734463\n",
      "Avg Network Performance Rank:\t1.5\n",
      "Avg Network Performance Rank, Rank:\t1\n",
      "Avg Network Performance Gain Rank:\t1.5\n",
      "Avg Network Performance Gain Rank, Rank:\t1\n"
     ]
    },
    {
     "name": "stderr",
     "output_type": "stream",
     "text": [
      "/home/karen/anaconda3/envs/py27/lib/python2.7/site-packages/ipykernel_launcher.py:3: DeprecationWarning: \n",
      ".ix is deprecated. Please use\n",
      ".loc for label based indexing or\n",
      ".iloc for positional indexing\n",
      "\n",
      "See the documentation here:\n",
      "http://pandas.pydata.org/pandas-docs/stable/indexing.html#ix-indexer-is-deprecated\n",
      "  This is separate from the ipykernel package so we can avoid doing imports until\n",
      "/home/karen/anaconda3/envs/py27/lib/python2.7/site-packages/ipykernel_launcher.py:5: DeprecationWarning: \n",
      ".ix is deprecated. Please use\n",
      ".loc for label based indexing or\n",
      ".iloc for positional indexing\n",
      "\n",
      "See the documentation here:\n",
      "http://pandas.pydata.org/pandas-docs/stable/indexing.html#ix-indexer-is-deprecated\n",
      "  \"\"\"\n"
     ]
    }
   ],
   "source": [
    "network_summary['Edge Density'] = 2*network_summary['Edges'] / float((network_summary['Nodes']*(network_summary['Nodes']-1)))\n",
    "network_summary['Avg Network Performance Rank'] = network_performance_rankings.mean()\n",
    "network_summary['Avg Network Performance Rank, Rank'] = int(network_performance_rank_table.mean().rank().ix['Test Network'])\n",
    "network_summary['Avg Network Performance Gain Rank'] = network_perf_gain_rankings.mean()\n",
    "network_summary['Avg Network Performance Gain Rank, Rank'] = int(network_perf_gain_rank_table.mean().rank().ix['Test Network'])\n",
    "for item in ['Nodes', 'Edges' ,'Avg Node Degree', 'Edge Density', 'Avg Network Performance Rank', 'Avg Network Performance Rank, Rank',\n",
    "             'Avg Network Performance Gain Rank', 'Avg Network Performance Gain Rank, Rank']:\n",
    "    print item+':\\t'+repr(network_summary[item])"
   ]
  },
  {
   "cell_type": "code",
   "execution_count": null,
   "metadata": {},
   "outputs": [],
   "source": []
  },
  {
   "cell_type": "code",
   "execution_count": null,
   "metadata": {},
   "outputs": [],
   "source": []
  }
 ],
 "metadata": {
  "kernelspec": {
   "display_name": "Python 2",
   "language": "python",
   "name": "python2"
  },
  "language_info": {
   "codemirror_mode": {
    "name": "ipython",
    "version": 2
   },
   "file_extension": ".py",
   "mimetype": "text/x-python",
   "name": "python",
   "nbconvert_exporter": "python",
   "pygments_lexer": "ipython2",
   "version": "2.7.18"
  }
 },
 "nbformat": 4,
 "nbformat_minor": 4
}
