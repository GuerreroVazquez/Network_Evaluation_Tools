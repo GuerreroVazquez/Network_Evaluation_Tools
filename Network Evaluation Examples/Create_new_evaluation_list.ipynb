{
 "cells": [
  {
   "cell_type": "markdown",
   "id": "ea88f940-feb2-48e1-b161-a823d5951567",
   "metadata": {},
   "source": [
    "Create new evaluation systems\n",
    "\n",
    "Now I will create usign TissueAtlas2 the microRNAs that are found in X or Y tissue."
   ]
  },
  {
   "cell_type": "code",
   "execution_count": 1,
   "id": "1cf325bf-f238-4830-b5be-40128012608e",
   "metadata": {},
   "outputs": [
    {
     "name": "stdout",
     "output_type": "stream",
     "text": [
      "/home/karen/Documents/GitHub/Network_Evaluation_Tools\n"
     ]
    }
   ],
   "source": [
    "cd .."
   ]
  },
  {
   "cell_type": "code",
   "execution_count": 2,
   "id": "0d8686d7-a9a2-42dd-a5b2-327919b4edc9",
   "metadata": {},
   "outputs": [],
   "source": [
    "tissueAtlas_file = 'Data/miRNATissueAtlas2.txt'"
   ]
  },
  {
   "cell_type": "code",
   "execution_count": 3,
   "id": "c33535a1-3c5f-4883-b27e-2c61aceba354",
   "metadata": {},
   "outputs": [],
   "source": [
    "import pandas as pd\n",
    "\n",
    "# Read in the TSV file\n",
    "df = pd.read_csv(tissueAtlas_file, delimiter='\\t', header=None)\n",
    "\n",
    "# Filter the DataFrame to include only rows with a score greater than 0.6\n",
    "df_filtered = df[df.iloc[:, 1] > 0.6]\n",
    "\n",
    "# Group the DataFrame by tissue and aggregate the microRNAs into a list\n",
    "tissue_groups = df_filtered.groupby(4)[0].apply(list)\n",
    "\n",
    "# Write the results to a text file\n",
    "with open('Data/tissues.txt', 'w') as f:\n",
    "    for tissue, miRNAs in tissue_groups.items():\n",
    "        f.write(f\"{tissue}\\t{' '.join(miRNAs)}\\n\")\n",
    "\n",
    "# Group the DataFrame by system and aggregate the microRNAs into a list\n",
    "system_groups = df_filtered.groupby(2)[0].apply(list)\n",
    "\n",
    "# Write the results to a text file\n",
    "with open('Data/systems.txt', 'w') as f:\n",
    "    for system, miRNAs in system_groups.items():\n",
    "        f.write(f\"{system}\\t{' '.join(miRNAs)}\\n\")"
   ]
  },
  {
   "cell_type": "code",
   "execution_count": null,
   "id": "22697e5d-7444-40f0-82e6-1ed7322d2d7f",
   "metadata": {},
   "outputs": [],
   "source": []
  }
 ],
 "metadata": {
  "kernelspec": {
   "display_name": "Python 3 (ipykernel)",
   "language": "python",
   "name": "python3"
  },
  "language_info": {
   "codemirror_mode": {
    "name": "ipython",
    "version": 3
   },
   "file_extension": ".py",
   "mimetype": "text/x-python",
   "name": "python",
   "nbconvert_exporter": "python",
   "pygments_lexer": "ipython3",
   "version": "3.8.8"
  }
 },
 "nbformat": 4,
 "nbformat_minor": 5
}
